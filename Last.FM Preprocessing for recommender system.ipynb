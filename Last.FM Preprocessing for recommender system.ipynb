{
 "cells": [
  {
   "cell_type": "markdown",
   "metadata": {},
   "source": [
    "# MyDJ K-Nearest Neighbors on Last.fm dataset\n",
    "\n",
    "This notebook explores a baseline result for running k-nearest neighbor on the [Last.fm](http://www.dtic.upf.edu/~ocelma/MusicRecommendationDataset/lastfm-1K.html) music recommendation dataset\n",
    "\n",
    "### Helper functions"
   ]
  },
  {
   "cell_type": "code",
   "execution_count": 26,
   "metadata": {},
   "outputs": [],
   "source": [
    "from pathlib import Path\n",
    "import numpy as np\n",
    "import pandas as pd\n",
    "\n",
    "def load_song_data():\n",
    "    path = Path('./lastfm-dataset-1K/userid-timestamp-artid-artname-traid-traname.tsv')\n",
    "    return pd.read_csv(\n",
    "        path.absolute(),\n",
    "        sep=\"\\t\",\n",
    "        names=[\"userid\", \"timestamp\", \"artist-id\", \"artist-name\", \"track-id\", \"track-name\"])"
   ]
  },
  {
   "cell_type": "markdown",
   "metadata": {},
   "source": [
    "## Load data and access distribution"
   ]
  },
  {
   "cell_type": "code",
   "execution_count": 27,
   "metadata": {},
   "outputs": [],
   "source": [
    "song_data = load_song_data()"
   ]
  },
  {
   "cell_type": "markdown",
   "metadata": {},
   "source": [
    "## How many songs does each user have?"
   ]
  },
  {
   "cell_type": "code",
   "execution_count": 116,
   "metadata": {},
   "outputs": [
    {
     "name": "stdout",
     "output_type": "stream",
     "text": [
      "19098862\n",
      "        userid             timestamp                             artist-id  \\\n",
      "0  user_000001  2009-05-04T23:08:57Z  f1b1cf71-bd35-4e99-8624-24a6e15f133a   \n",
      "1  user_000001  2009-05-04T13:54:10Z  a7f7df4a-77d8-4f12-8acd-5c60c93f4de8   \n",
      "2  user_000001  2009-05-04T13:52:04Z  a7f7df4a-77d8-4f12-8acd-5c60c93f4de8   \n",
      "3  user_000001  2009-05-04T13:42:52Z  a7f7df4a-77d8-4f12-8acd-5c60c93f4de8   \n",
      "4  user_000001  2009-05-04T13:42:11Z  a7f7df4a-77d8-4f12-8acd-5c60c93f4de8   \n",
      "\n",
      "  artist-name track-id                                  track-name  \n",
      "0   Deep Dish      NaN  Fuck Me Im Famous (Pacha Ibiza)-09-28-2007  \n",
      "1        坂本龍一      NaN           Composition 0919 (Live_2009_4_15)  \n",
      "2        坂本龍一      NaN                        Mc2 (Live_2009_4_15)  \n",
      "3        坂本龍一      NaN                     Hibari (Live_2009_4_15)  \n",
      "4        坂本龍一      NaN                        Mc1 (Live_2009_4_15)  \n"
     ]
    }
   ],
   "source": [
    "print(len(song_data))\n",
    "print(song_data.head())\n",
    "\n",
    "user_values = song_data['userid'].value_counts().keys().tolist()\n",
    "user_counts = song_data['userid'].value_counts().tolist()\n",
    "user_id_with_song_counts = list(zip(user_values, user_counts))"
   ]
  },
  {
   "cell_type": "code",
   "execution_count": 115,
   "metadata": {},
   "outputs": [
    {
     "name": "stdout",
     "output_type": "stream",
     "text": [
      "890 have at least 1000 songs, out of a total of 992 users\n"
     ]
    }
   ],
   "source": [
    "limit = 1000\n",
    "\n",
    "users_with_1000_songs = list(filter(lambda pair: pair[1] >= limit, user_id_with_song_counts))\n",
    "print(f\"{len(users_with_1000_songs)} have at least {limit} songs, out of a total of {len(user_song_counts)} users\")"
   ]
  },
  {
   "cell_type": "markdown",
   "metadata": {},
   "source": [
    "## How many unique songs are there?"
   ]
  },
  {
   "cell_type": "code",
   "execution_count": 120,
   "metadata": {},
   "outputs": [],
   "source": [
    "song_values = song_data['track-id'].value_counts().keys().tolist()\n",
    "song_counts = song_data['track-id'].value_counts().tolist()\n",
    "song_id_with_listen_counts = list(zip(song_values, song_counts))"
   ]
  },
  {
   "cell_type": "code",
   "execution_count": 128,
   "metadata": {},
   "outputs": [
    {
     "name": "stdout",
     "output_type": "stream",
     "text": [
      "268184 songs have at least 10 listens, out of a total of 960402 songs\n"
     ]
    }
   ],
   "source": [
    "limit = 10\n",
    "\n",
    "songs_with_1000_listens = list(filter(lambda pair: pair[1] >= limit, song_id_with_listen_counts))\n",
    "print(f\"{len(songs_with_1000_listens)} songs have at least {limit} listens, out of a total of {len(song_counts)} songs\")"
   ]
  },
  {
   "cell_type": "markdown",
   "metadata": {},
   "source": [
    "## Generate user-song matrix"
   ]
  },
  {
   "cell_type": "code",
   "execution_count": 213,
   "metadata": {},
   "outputs": [
    {
     "name": "stdout",
     "output_type": "stream",
     "text": [
      "(992, 173923)\n"
     ]
    }
   ],
   "source": [
    "from sortedcontainers import SortedList\n",
    "\n",
    "user_order = SortedList(sorted(set(song_data['userid'])))\n",
    "artist_order = SortedList(sorted(set(song_data['artist-name'])))\n",
    "user_song_matrix = np.zeros((len(user_order), len(artist_order)))\n",
    "print(user_song_matrix.shape)"
   ]
  },
  {
   "cell_type": "code",
   "execution_count": 203,
   "metadata": {
    "scrolled": true
   },
   "outputs": [
    {
     "name": "stdout",
     "output_type": "stream",
     "text": [
      "         userid      artist-name\n",
      "0   user_000001        Deep Dish\n",
      "1   user_000001             坂本龍一\n",
      "14  user_000001       Underworld\n",
      "16  user_000001  Ennio Morricone\n",
      "17  user_000001          Minus 8\n"
     ]
    }
   ],
   "source": [
    "user_artist_df = song_data.loc[:, ['userid','artist-name']]\n",
    "user_artist_df = user_artist_df.drop_duplicates()\n",
    "print(user_artist_df.head())"
   ]
  },
  {
   "cell_type": "code",
   "execution_count": null,
   "metadata": {},
   "outputs": [
    {
     "name": "stdout",
     "output_type": "stream",
     "text": [
      "0\n",
      "100000\n",
      "200000\n"
     ]
    }
   ],
   "source": [
    "for i, row in enumerate(user_artist_df.iterrows()):\n",
    "    user_id, artist_name = row[1]\n",
    "\n",
    "    row_num = user_order.index(user_id)\n",
    "    col_num = artist_order.index(artist_name)\n",
    "    user_song_matrix[row_num, col_num] = 1\n",
    "    if i % 100000 == 0:\n",
    "        print(i)"
   ]
  },
  {
   "cell_type": "code",
   "execution_count": 223,
   "metadata": {},
   "outputs": [],
   "source": [
    "with open('user-id-to-listened-artist-name-matrix.csv', 'w') as outfile:\n",
    "    df = pd.DataFrame(user_song_matrix.astype(int))\n",
    "    column_names = [\"userid\"] + list(artist_order)\n",
    "    df.insert(0, \"userid\", user_order)\n",
    "    df.columns = column_names\n",
    "    df.to_csv(outfile, sep='\\t', encoding='utf-8')"
   ]
  }
 ],
 "metadata": {
  "kernelspec": {
   "display_name": "Python 3",
   "language": "python",
   "name": "python3"
  },
  "language_info": {
   "codemirror_mode": {
    "name": "ipython",
    "version": 3
   },
   "file_extension": ".py",
   "mimetype": "text/x-python",
   "name": "python",
   "nbconvert_exporter": "python",
   "pygments_lexer": "ipython3",
   "version": "3.6.2"
  }
 },
 "nbformat": 4,
 "nbformat_minor": 2
}
